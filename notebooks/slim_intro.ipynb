{
 "cells": [
  {
   "cell_type": "code",
   "execution_count": 1,
   "metadata": {},
   "outputs": [],
   "source": [
    "import os\n",
    "import numpy as np\n",
    "import matplotlib\n",
    "import matplotlib.pyplot as plt\n",
    "%load_ext slim_magic"
   ]
  },
  {
   "cell_type": "code",
   "execution_count": 2,
   "metadata": {},
   "outputs": [],
   "source": [
    "# setup: has to be in a separate cell for some reason\n",
    "plt.rcParams['figure.figsize'] = [8, 4]"
   ]
  },
  {
   "cell_type": "markdown",
   "metadata": {},
   "source": [
    "# SLiM\n",
    "\n",
    "SLiM stands for [\"Selection on Linked Mutations\"](https://messerlab.org/slim/),\n",
    "written by Ben Haller and Phillip Messer.\n",
    "The manual is very good, and probably describes everything you'd want to know,\n",
    "but there are published papers about [SLiM v2](https://academic.oup.com/mbe/article/34/1/230/2670194),\n",
    "[SLiM v3](https://academic.oup.com/mbe/advance-article/doi/10.1093/molbev/msy228/5229931),\n",
    "using [tree sequence recording](https://onlinelibrary.wiley.com/doi/abs/10.1111/1755-0998.12968),\n",
    "and a [tutorial for SLiM v3](https://academic.oup.com/mbe/advance-article/doi/10.1093/molbev/msy237/5258474).\n",
    "\n",
    "It was initially designed to simulate genomes under selection,\n",
    "but has matured into a good ecological simulator itself (in v3).\n",
    "We'll focus on this, but you still need to know the basics of how to set up genomes.\n",
    "\n",
    "Simulation hierarchy:\n",
    "\n",
    "- `sim` : the simulation\n",
    "    - `p1`, `p2`, ... : the \"subpopulations\"\n",
    "        - `p1.individuals` : the individuals in subpopulation `p1`\n",
    "            - `ind.genomes` : the two genomes of individual `ind`\n",
    "                - `genome.mutations` : the \"mutations\" carried by `genome`\n",
    "\n",
    "Most things are vectorized, so for instance `p1.individuals.sex` will get you a vector of sexes,\n",
    "equivalent to doing something like `for (ind in p1.individuals) { ... ind.sex ... }`."
   ]
  },
  {
   "cell_type": "markdown",
   "metadata": {},
   "source": [
    "## Running scripts\n",
    "\n",
    "First, you need to [install SLiM](https://messerlab.org/SLiM).\n",
    "You should use SLiM's GUI for developing and visualizing!\n",
    "But, in this notebook I'll run SLiM from within the notebook.\n",
    "I'm doing this with the `slim_magic` package, in development; get this by doing (anywhere):\n",
    "```\n",
    "git clone https://github.com/andrewkern/slim_magic.git\n",
    "cd slim_magic\n",
    "pip install .\n",
    "```"
   ]
  },
  {
   "cell_type": "markdown",
   "metadata": {},
   "source": [
    "### A first recipe\n",
    "\n",
    "Here's the first recipe from the SLiM manual.\n",
    "It uses the default demography: a randomly-mating Wright-Fisher population of fixed size.\n",
    "The `%%slim` up top of this cell asks python to run the SLiM script and print the resulting output."
   ]
  },
  {
   "cell_type": "code",
   "execution_count": 3,
   "metadata": {},
   "outputs": [
    {
     "name": "stdout",
     "output_type": "stream",
     "text": [
      "// Initial random seed:\n",
      "16252615775009\n",
      "\n",
      "// RunInitializeCallbacks():\n",
      "initializeMutationRate(1e-07);\n",
      "initializeMutationType(1, 0.5, \"f\", 0);\n",
      "initializeMutationType(2, 0.5, \"f\", 0.01);\n",
      "initializeGenomicElementType(1, c(m1, m2), c(1, 1));\n",
      "initializeGenomicElement(g1, 0, 99999);\n",
      "initializeRecombinationRate(1e-08);\n",
      "\n",
      "// Starting run at tick <start>:\n",
      "1 \n",
      "\n",
      "\n"
     ]
    }
   ],
   "source": [
    "%%slim\n",
    "initialize()\n",
    "{\n",
    "    // set the overall mutation rate\n",
    "    initializeMutationRate(1e-7);\n",
    "\n",
    "    // m1 mutation type: neutral\n",
    "    initializeMutationType(\"m1\", 0.5, \"f\", 0.0);\n",
    "    // m2 mutation type: beneficial\n",
    "    initializeMutationType(\"m2\", 0.5, \"f\", 0.01);\n",
    "\n",
    "    // g1 genomic element type: uses m1 or m2 with equal prob for mutations\n",
    "    initializeGenomicElementType(\"g1\", c(m1, m2), c(1.0, 1.0));\n",
    "\n",
    "    // uniform chromosome of length 100 kb\n",
    "    initializeGenomicElement(g1, 0, 99999);\n",
    "   \n",
    "    // uniform recombination along the chromosome\n",
    "    initializeRecombinationRate(1e-8);\n",
    "}\n",
    "\n",
    "// create a population of 500 individuals\n",
    "1 early() {\n",
    "    sim.addSubpop(\"p1\", 500);\n",
    "}\n",
    "\n",
    "// run to generation 10000\n",
    "10000 early() {\n",
    "    sim.simulationFinished();\n",
    "}"
   ]
  },
  {
   "cell_type": "markdown",
   "metadata": {},
   "source": [
    "**Exercise:** Put this in the SLiM GUI.\n",
    "1. Run it.\n",
    "2. Click on the \"help\" button and browse the functions.\n",
    "3. Option-click on a function to pop up the help for it.\n",
    "4. Change the mutation type to be *deleterious*, like so:\n",
    "```\n",
    "    initializeMutationType(\"m1\", 0.5, \"f\", -0.01);\n",
    "```\n",
    "and watch what happens."
   ]
  },
  {
   "cell_type": "markdown",
   "metadata": {},
   "source": [
    "## More general (non-Wright-Fisher) models\n",
    "\n",
    "There are two general types: \"Wright-Fisher\" and \"non-Wright-Fisher\".\n",
    "(Wright-Fisher is a special case of non-Wright-Fisher, but it came first, thus the name.)\n",
    "We want to have real demography, so we'll stick to \"nonWF\" models."
   ]
  },
  {
   "cell_type": "markdown",
   "metadata": {},
   "source": [
    "### The SLiM Life Cycle\n",
    "\n",
    "The most important thing to understand is the life cycle. \n",
    "The life cycle for Wright-Fisher models is a bit different (see the manual),\n",
    "but for nonWF models it is, a bit simplified:\n",
    "\n",
    "1. Generation of offspring, in `reproduction()` callbacks\n",
    "    \n",
    "2. Execution of `early()` events\n",
    "\n",
    "3. Fitness value recalculation with `fitness()` callbacks\n",
    "\n",
    "4. Viability/survival selection (`fitness` = probability of survival)\n",
    "\n",
    "5. Removal of fixed mutations\n",
    "\n",
    "6. Execution of `late()` events\n",
    "\n",
    "7. Generation count increment, individual age increments"
   ]
  },
  {
   "cell_type": "markdown",
   "metadata": {},
   "source": [
    "### The parts of a recipe\n",
    "\n",
    "Each *script block* in a SLiM recipe\n",
    "is prefaced with some code that says *when* it happens, and to *whom*.\n",
    "This might take the form:\n",
    "```\n",
    "[id] [gen1 [: gen2]] [early()] { ... }\n",
    "```\n",
    "The square brackets demarcate optional things.\n",
    "The pieces are:\n",
    "\n",
    "- `id` : a name for this script block (often omitted)\n",
    "- `gen1` : the first time step to execute this code in\n",
    "- `gen2` : the last time step to execute this code in\n",
    "- `early()` : when in the life cycle this happens; can actually be one of \n",
    "    `initialize()`, `early()`, `late()`, `fitness()`, `interaction()`,\n",
    "    `mateChoice()`, `modifyChild()`, `recombination()`, or `reproduction()`\n",
    "    (defaults to `early()`).\n",
    "\n",
    "These have somewhat different meanings: for instance,\n",
    "an `early()` script block happens once per time step,\n",
    "a `modifyChild()` script block is evaluated once *per offspring* each time step.\n",
    "Also, many of these can be restricted to a subset of indivduals.\n",
    "\n",
    "For instance:\n",
    "```\n",
    "early() {\n",
    "    // stuff here happens every early()\n",
    "}\n",
    "```\n",
    "or,\n",
    "```\n",
    "\n",
    "10:20 reproduction(p1) {\n",
    "    // stuff here happens every time step from 10 to 20 (inclusive)\n",
    "    // and only to individuals in subpopulation p1\n",
    "}\n",
    "```"
   ]
  },
  {
   "cell_type": "markdown",
   "metadata": {},
   "source": [
    "### A nonWF model\n",
    "\n",
    "Here's an example nonWF model.\n",
    "The new things are that\n",
    "\n",
    "1. We need to explicitly manage reproduction (with a `reproduction()` callback).\n",
    "2. We put in some output, that reports what the current population size is every time step.\n",
    "   (This is sent to python using the `%%slim_stats` magic.) "
   ]
  },
  {
   "cell_type": "code",
   "execution_count": 4,
   "metadata": {},
   "outputs": [
    {
     "data": {
      "text/html": [
       "<div>\n",
       "<style scoped>\n",
       "    .dataframe tbody tr th:only-of-type {\n",
       "        vertical-align: middle;\n",
       "    }\n",
       "\n",
       "    .dataframe tbody tr th {\n",
       "        vertical-align: top;\n",
       "    }\n",
       "\n",
       "    .dataframe thead th {\n",
       "        text-align: right;\n",
       "    }\n",
       "</style>\n",
       "<table border=\"1\" class=\"dataframe\">\n",
       "  <thead>\n",
       "    <tr style=\"text-align: right;\">\n",
       "      <th></th>\n",
       "      <th>pop_size</th>\n",
       "    </tr>\n",
       "    <tr>\n",
       "      <th>cycle</th>\n",
       "      <th></th>\n",
       "    </tr>\n",
       "  </thead>\n",
       "  <tbody>\n",
       "    <tr>\n",
       "      <th>1</th>\n",
       "      <td>10</td>\n",
       "    </tr>\n",
       "    <tr>\n",
       "      <th>2</th>\n",
       "      <td>20</td>\n",
       "    </tr>\n",
       "    <tr>\n",
       "      <th>3</th>\n",
       "      <td>40</td>\n",
       "    </tr>\n",
       "    <tr>\n",
       "      <th>4</th>\n",
       "      <td>80</td>\n",
       "    </tr>\n",
       "    <tr>\n",
       "      <th>5</th>\n",
       "      <td>160</td>\n",
       "    </tr>\n",
       "    <tr>\n",
       "      <th>6</th>\n",
       "      <td>320</td>\n",
       "    </tr>\n",
       "    <tr>\n",
       "      <th>7</th>\n",
       "      <td>640</td>\n",
       "    </tr>\n",
       "    <tr>\n",
       "      <th>8</th>\n",
       "      <td>1280</td>\n",
       "    </tr>\n",
       "    <tr>\n",
       "      <th>9</th>\n",
       "      <td>2560</td>\n",
       "    </tr>\n",
       "    <tr>\n",
       "      <th>10</th>\n",
       "      <td>5120</td>\n",
       "    </tr>\n",
       "  </tbody>\n",
       "</table>\n",
       "</div>"
      ],
      "text/plain": [
       "       pop_size\n",
       "cycle          \n",
       "1            10\n",
       "2            20\n",
       "3            40\n",
       "4            80\n",
       "5           160\n",
       "6           320\n",
       "7           640\n",
       "8          1280\n",
       "9          2560\n",
       "10         5120"
      ]
     },
     "execution_count": 4,
     "metadata": {},
     "output_type": "execute_result"
    }
   ],
   "source": [
    "%%slim_stats\n",
    "initialize()\n",
    "{\n",
    "    // since the default is WF, to get a non-WF model, we need to say so\n",
    "    initializeSLiMModelType(\"nonWF\");\n",
    "    // genome is the same as above\n",
    "    initializeMutationRate(1e-7);\n",
    "    initializeMutationType(\"m1\", 0.5, \"f\", 0.0);\n",
    "    initializeGenomicElementType(\"g1\", m1, 1.0);\n",
    "    initializeGenomicElement(g1, 0, 99999);\n",
    "    initializeRecombinationRate(1e-8);    \n",
    "}\n",
    "\n",
    "reproduction() {\n",
    "    subpop.addCrossed(individual, subpop.sampleIndividuals(1));\n",
    "}\n",
    "\n",
    "1 early() {\n",
    "    sim.addSubpop(\"p1\", 10);\n",
    "    log = community.createLogFile(\"/dev/stdout\", logInterval=1);\n",
    "    log.addCycle();\n",
    "    log.addCustomColumn(\"pop_size\", \"p1.individualCount;\"); \n",
    "}\n",
    "\n",
    "10 early() {\n",
    "    sim.simulationFinished();\n",
    "}"
   ]
  },
  {
   "cell_type": "markdown",
   "metadata": {},
   "source": [
    "### SLiM's Fitness\n",
    "\n",
    "Uh-oh, I see where *that* is going.\n",
    "We need population regulation!\n",
    "The easiest way is by the `fitnessScaling` attribute of individuals.\n",
    "In nonWF SLiM models, the \"fitness\" of an individual \n",
    "is the probability of survival until the next time step.\n",
    "This is computed by multiplying the fitness calculated from the genome\n",
    "(since all our mutations are neutral, this is `1.0` for everyone)\n",
    "by the `fitnessScaling` attributes of the individual and of their subpopulation.\n",
    "\n",
    "Concretely, we'll fix a \"carrying capacity\" $K$,\n",
    "and say that the probability of survival, per individual,\n",
    "when there are $N$ individuals, is $K/N$.\n",
    "\n",
    "As before, every individual produces one offspring\n",
    "with a randomly chosen mate\n",
    "every time step.\n",
    "\n",
    "**Exercise:** What is the stable population size of this model?\n",
    "Predict before you run it."
   ]
  },
  {
   "cell_type": "code",
   "execution_count": 8,
   "metadata": {},
   "outputs": [],
   "source": [
    "%%slim_stats --out df\n",
    "initialize()\n",
    "{\n",
    "    // since the model will be non-Wright-Fisher, we need to say so\n",
    "    initializeSLiMModelType(\"nonWF\");\n",
    "    // genome is the same as above\n",
    "    initializeMutationRate(1e-7);\n",
    "    initializeMutationType(\"m1\", 0.5, \"f\", 0.0);\n",
    "    initializeGenomicElementType(\"g1\", m1, 1.0);\n",
    "    initializeGenomicElement(g1, 0, 99999);\n",
    "    initializeRecombinationRate(1e-8);    \n",
    "\n",
    "    // this will be the carrying capacity\n",
    "    defineConstant(\"K\", 1000);\n",
    "}\n",
    "\n",
    "reproduction() {\n",
    "    subpop.addCrossed(individual, subpop.sampleIndividuals(1));\n",
    "}\n",
    "\n",
    "1 early() {\n",
    "    sim.addSubpop(\"p1\", 10);\n",
    "    log = community.createLogFile(\"/dev/stdout\", logInterval=1);\n",
    "    log.addCycle();\n",
    "    log.addCustomColumn(\"pop_size\", \"p1.individualCount;\");\n",
    "}\n",
    "\n",
    "early() {\n",
    "    p1.fitnessScaling = K / p1.individualCount;\n",
    "}\n",
    "\n",
    "100 early() {\n",
    "    sim.simulationFinished();\n",
    "}"
   ]
  },
  {
   "cell_type": "code",
   "execution_count": 9,
   "metadata": {},
   "outputs": [
    {
     "data": {
      "image/png": "[encoded data removed]",
      "text/plain": [
       "<Figure size 800x400 with 1 Axes>"
      ]
     },
     "metadata": {},
     "output_type": "display_data"
    }
   ],
   "source": [
    "fig, ax = plt.subplots()\n",
    "ax.plot(df)\n",
    "ax.set_xlabel(\"time step\")\n",
    "ax.set_ylabel(\"population size\");"
   ]
  },
  {
   "cell_type": "markdown",
   "metadata": {},
   "source": [
    "**Exercise:** Add to the output another entry: how many individuals are older than 2 time steps.\n",
    "(Code like it's R;\n",
    "`p1.individuals` gets you a vector of individuals; \n",
    "look in the help under Individual to see how to get their ages.)"
   ]
  },
  {
   "cell_type": "markdown",
   "metadata": {},
   "source": [
    "## Age-dependent mortality\n",
    "\n",
    "Let's modify the above to resemble our *stage-structured* model from before.\n",
    "\n",
    "1. Individuals are *juvenile* for one full year, with 70% mortality rate.\n",
    "2. If they survive, they become *adults*, with 50% yearly mortality,\n",
    "3. and a mean birth rate of 10 per individual.\n",
    "\n",
    "This will grow exponentially, of course, so don't run it for too long."
   ]
  },
  {
   "cell_type": "code",
   "execution_count": 13,
   "metadata": {},
   "outputs": [],
   "source": [
    "%%slim_stats --out df\n",
    "initialize() {\n",
    "    initializeSLiMModelType(\"nonWF\");\n",
    "    initializeMutationRate(1e-7);\n",
    "    initializeMutationType(\"m1\", 0.5, \"f\", 0.0);\n",
    "    initializeGenomicElementType(\"g1\", m1, 1.0);\n",
    "    initializeGenomicElement(g1, 0, 99999);\n",
    "    initializeRecombinationRate(1e-8);    \n",
    "\n",
    "    // this will be the carrying capacity\n",
    "    defineConstant(\"K\", 100);\n",
    "}\n",
    "\n",
    "reproduction() {\n",
    "    if (individual.age > 1) {\n",
    "        num_offspring = rpois(1, 10);\n",
    "        mate = sample(p1.individuals[p1.individuals.age > 1], 1);\n",
    "        // catn(\"Producing \" + num_offspring + \" babies!\");\n",
    "        for (k in seqLen(num_offspring)) {\n",
    "            p1.addCrossed(individual, mate);\n",
    "        }\n",
    "    }\n",
    "}\n",
    "\n",
    "1 early() {\n",
    "    sim.addSubpop(\"p1\", 500);\n",
    "    log = community.createLogFile(\"/dev/stdout\", logInterval=1);\n",
    "    log.addCycle();\n",
    "    for (age in seqLen(10)) {\n",
    "        log.addCustomColumn(\"age_\" + age, \"sum(p1.individuals.age == \" + age + \");\");\n",
    "    }\n",
    "}\n",
    "\n",
    "\n",
    "early() {\n",
    "    // survival probabilities\n",
    "    inds = p1.individuals;\n",
    "    inds[inds.age > 1].fitnessScaling = 0.5;\n",
    "    inds[inds.age <= 1].fitnessScaling = 0.3;\n",
    "}\n",
    "\n",
    "10 early() {\n",
    "    sim.simulationFinished();\n",
    "}"
   ]
  },
  {
   "cell_type": "code",
   "execution_count": 12,
   "metadata": {},
   "outputs": [
    {
     "data": {
      "image/png": "[encoded data removed]",
      "text/plain": [
       "<Figure size 800x400 with 1 Axes>"
      ]
     },
     "metadata": {},
     "output_type": "display_data"
    }
   ],
   "source": [
    "fig, ax = plt.subplots()\n",
    "ax.plot(df, label=df.columns)\n",
    "ax.set_xlabel(\"time step\")\n",
    "ax.set_ylabel(\"number of individuals\")\n",
    "ax.legend();"
   ]
  },
  {
   "cell_type": "markdown",
   "metadata": {},
   "source": [
    "**Exercise:** change `%%slim_stats` to `%%slim` at the top and uncomment the `catn( )` line; see what happens. (Moral: to get useful debugging output, use `catn( )`!)"
   ]
  },
  {
   "cell_type": "markdown",
   "metadata": {},
   "source": [
    "**Exercise:**  Add *fecundity* population regulation to this model:\n",
    "suppose that the mean number of offspring that an individual has\n",
    "when there are $N$ adults is $10/(1 + N/K)$, where $K$ is the carrying capacity.\n",
    "Predict where equilibrium will be, then run it for 1000 generations to see."
   ]
  },
  {
   "cell_type": "markdown",
   "metadata": {},
   "source": [
    "### Exercise\n",
    "\n",
    "Read sections 1-4 of the SLiM Manual.\n",
    "Add *both* beneficial and deleterious mutations to a SLiM recipe of your choice.\n",
    "(You should be able to tell this is working if you get fitness values both above and below 1.)"
   ]
  }
 ],
 "metadata": {
  "kernelspec": {
   "display_name": "Python 3 (ipykernel)",
   "language": "python",
   "name": "python3"
  },
  "language_info": {
   "codemirror_mode": {
    "name": "ipython",
    "version": 3
   },
   "file_extension": ".py",
   "mimetype": "text/x-python",
   "name": "python",
   "nbconvert_exporter": "python",
   "pygments_lexer": "ipython3",
   "version": "3.10.6"
  }
 },
 "nbformat": 4,
 "nbformat_minor": 2
}
